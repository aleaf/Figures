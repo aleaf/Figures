{
 "cells": [
  {
   "cell_type": "code",
   "execution_count": 2,
   "metadata": {
    "collapsed": true
   },
   "outputs": [],
   "source": [
    "import numpy as np\n",
    "import matplotlib as mpl\n",
    "import matplotlib.pyplot as plt\n",
    "\n",
    "%matplotlib inline"
   ]
  },
  {
   "cell_type": "code",
   "execution_count": 3,
   "metadata": {
    "collapsed": false
   },
   "outputs": [],
   "source": [
    "def shiftedColorMap(cmap, start=0, midpoint=0.5, stop=1.0, name='shiftedcmap'):\n",
    "    '''\n",
    "    Function to offset the \"center\" of a colormap. Useful for\n",
    "    data with a negative min and positive max and you want the\n",
    "    middle of the colormap's dynamic range to be at zero. From:\n",
    "    http://stackoverflow.com/questions/7404116/defining-the-midpoint-of-a-colormap-in-matplotlib\n",
    "\n",
    "    Input\n",
    "    -----\n",
    "      cmap : The matplotlib colormap to be altered\n",
    "      start : Offset from lowest point in the colormap's range.\n",
    "          Defaults to 0.0 (no lower ofset). Should be between\n",
    "          0.0 and `midpoint`.\n",
    "      midpoint : The new center of the colormap. Defaults to\n",
    "          0.5 (no shift). Should be between 0.0 and 1.0. In\n",
    "          general, this should be  1 - vmax/(vmax + abs(vmin))\n",
    "          For example if your data range from -15.0 to +5.0 and\n",
    "          you want the center of the colormap at 0.0, `midpoint`\n",
    "          should be set to  1 - 5/(5 + 15)) or 0.75\n",
    "      stop : Offset from highets point in the colormap's range.\n",
    "          Defaults to 1.0 (no upper ofset). Should be between\n",
    "          `midpoint` and 1.0.\n",
    "    '''\n",
    "\n",
    "    cdict = {\n",
    "        'red': [],\n",
    "        'green': [],\n",
    "        'blue': [],\n",
    "        'alpha': []\n",
    "    }\n",
    "\n",
    "    # regular index to compute the colors\n",
    "    reg_index = np.linspace(start, stop, 257)\n",
    "    \n",
    "    if start < midpoint < stop:\n",
    "        # shifted index to match the data\n",
    "        shift_index = np.hstack([\n",
    "            np.linspace(0.0, midpoint, 128, endpoint=False),\n",
    "            np.linspace(midpoint, 1.0, 129, endpoint=True)\n",
    "        ])\n",
    "    elif midpoint >=stop:\n",
    "        shift_index = np.hstack([\n",
    "            np.linspace(0.0, midpoint, 128, endpoint=False),\n",
    "            np.linspace(midpoint, midpoint, 129, endpoint=True)])\n",
    "    \n",
    "    elif midpoint <=start:\n",
    "        shift_index = np.linspace(midpoint, stop, 257)\n",
    "    else:\n",
    "        pass\n",
    "\n",
    "    for ri, si in zip(reg_index, shift_index):\n",
    "        r, g, b, a = cmap(ri)\n",
    "\n",
    "        cdict['red'].append((si, r, r))\n",
    "        cdict['green'].append((si, g, g))\n",
    "        cdict['blue'].append((si, b, b))\n",
    "        cdict['alpha'].append((si, a, a))\n",
    "\n",
    "    newcmap = mpl.colors.LinearSegmentedColormap(name, cdict)\n",
    "    plt.register_cmap(cmap=newcmap)\n",
    "\n",
    "    return newcmap"
   ]
  },
  {
   "cell_type": "code",
   "execution_count": 105,
   "metadata": {
    "collapsed": false
   },
   "outputs": [
    {
     "name": "stdout",
     "output_type": "stream",
     "text": [
      "0.5099 0.51 1.0\n"
     ]
    },
    {
     "data": {
      "text/plain": [
       "<matplotlib.colorbar.Colorbar instance at 0x11588d290>"
      ]
     },
     "execution_count": 105,
     "metadata": {},
     "output_type": "execute_result"
    },
    {
     "data": {
      "image/png": "[encoded data removed]",
      "text/plain": [
       "<matplotlib.figure.Figure at 0x1155c0390>"
      ]
     },
     "metadata": {},
     "output_type": "display_data"
    }
   ],
   "source": [
    "low, high = 10.0, 500.0 #-20, 2\n",
    "biased_data = np.random.randint(high=high, low=low, size=(37,37))\n",
    "start, midpoint, stop = 0, .5, 1.0\n",
    "\n",
    "\n",
    "start, stop = 0.0, 1.0\n",
    "if high > 0 and low >= 0:\n",
    "    midpoint = 0.5 + low / (2 * high)\n",
    "    start = midpoint - 0.0001\n",
    "elif high <= 0 and low < 0:\n",
    "    midpoint = (low - high) / (2 * low)\n",
    "    stop = midpoint + 0.0001\n",
    "elif abs(low) > high:\n",
    "    stop = (high-low) / (2 * abs(low))\n",
    "    midpoint = start + abs(low) / (2*abs(low))\n",
    "elif abs(low) < high:\n",
    "    start = (high - abs(low)) / (2 * high)\n",
    "    midpoint = start + abs(low)/(2* high)\n",
    "else:\n",
    "    pass\n",
    "        \n",
    "print start, midpoint, stop\n",
    "orig_cmap = mpl.cm.coolwarm\n",
    "#shifted_cmap = shiftedColorMap(orig_cmap, midpoint=0.75, name='shifted')\n",
    "shrunk_cmap = shiftedColorMap(orig_cmap, start=start, midpoint=midpoint, stop=stop, name='shrunk')\n",
    "\n",
    "fig = plt.figure(figsize=(6,6))\n",
    "plt.imshow(biased_data, interpolation=\"none\", cmap=shrunk_cmap)\n",
    "plt.colorbar()"
   ]
  },
  {
   "cell_type": "code",
   "execution_count": 83,
   "metadata": {
    "collapsed": false
   },
   "outputs": [
    {
     "data": {
      "text/plain": [
       "0.5"
      ]
     },
     "execution_count": 83,
     "metadata": {},
     "output_type": "execute_result"
    }
   ],
   "source": [
    "crange/1000.0"
   ]
  },
  {
   "cell_type": "code",
   "execution_count": 45,
   "metadata": {
    "collapsed": false
   },
   "outputs": [
    {
     "name": "stdout",
     "output_type": "stream",
     "text": [
      "Help on built-in function random_sample:\n",
      "\n",
      "random_sample(...)\n",
      "    random_sample(size=None)\n",
      "    \n",
      "    Return random floats in the half-open interval [0.0, 1.0).\n",
      "    \n",
      "    Results are from the \"continuous uniform\" distribution over the\n",
      "    stated interval.  To sample :math:`Unif[a, b), b > a` multiply\n",
      "    the output of `random_sample` by `(b-a)` and add `a`::\n",
      "    \n",
      "      (b - a) * random_sample() + a\n",
      "    \n",
      "    Parameters\n",
      "    ----------\n",
      "    size : int or tuple of ints, optional\n",
      "        Output shape.  If the given shape is, e.g., ``(m, n, k)``, then\n",
      "        ``m * n * k`` samples are drawn.  Default is None, in which case a\n",
      "        single value is returned.\n",
      "    \n",
      "    Returns\n",
      "    -------\n",
      "    out : float or ndarray of floats\n",
      "        Array of random floats of shape `size` (unless ``size=None``, in which\n",
      "        case a single float is returned).\n",
      "    \n",
      "    Examples\n",
      "    --------\n",
      "    >>> np.random.random_sample()\n",
      "    0.47108547995356098\n",
      "    >>> type(np.random.random_sample())\n",
      "    <type 'float'>\n",
      "    >>> np.random.random_sample((5,))\n",
      "    array([ 0.30220482,  0.86820401,  0.1654503 ,  0.11659149,  0.54323428])\n",
      "    \n",
      "    Three-by-two array of random numbers from [-5, 0):\n",
      "    \n",
      "    >>> 5 * np.random.random_sample((3, 2)) - 5\n",
      "    array([[-3.99149989, -0.52338984],\n",
      "           [-2.99091858, -0.79479508],\n",
      "           [-1.23204345, -1.75224494]])\n",
      "\n"
     ]
    }
   ],
   "source": [
    "help(np.random.random)"
   ]
  },
  {
   "cell_type": "code",
   "execution_count": null,
   "metadata": {
    "collapsed": true
   },
   "outputs": [],
   "source": []
  },
  {
   "cell_type": "code",
   "execution_count": 17,
   "metadata": {
    "collapsed": false
   },
   "outputs": [
    {
     "name": "stdout",
     "output_type": "stream",
     "text": [
      "0.0 1.0 1.0\n"
     ]
    }
   ],
   "source": [
    "cmap = orig_cmap\n",
    "print start, midpoint, stop\n",
    "\n",
    "cdict = {\n",
    "        'red': [],\n",
    "        'green': [],\n",
    "        'blue': [],\n",
    "        'alpha': []\n",
    "        }\n",
    "\n",
    "# regular index to compute the colors\n",
    "reg_index = np.linspace(start, stop, 257)\n",
    "\n",
    "shift_index = np.hstack([\n",
    "            np.linspace(0.0, midpoint, 128, endpoint=False),\n",
    "            np.linspace(midpoint, 1.0, 129, endpoint=True)\n",
    "        ])\n",
    "\n",
    "for ri, si in zip(reg_index, shift_index):\n",
    "    r, g, b, a = cmap(ri)\n",
    "\n",
    "    cdict['red'].append((si, r, r))\n",
    "    cdict['green'].append((si, g, g))\n",
    "    cdict['blue'].append((si, b, b))\n",
    "    cdict['alpha'].append((si, a, a))\n",
    "    "
   ]
  },
  {
   "cell_type": "code",
   "execution_count": 22,
   "metadata": {
    "collapsed": false
   },
   "outputs": [
    {
     "data": {
      "text/plain": [
       "256"
      ]
     },
     "execution_count": 22,
     "metadata": {},
     "output_type": "execute_result"
    }
   ],
   "source": [
    "orig_cmap."
   ]
  },
  {
   "cell_type": "code",
   "execution_count": 12,
   "metadata": {
    "collapsed": false
   },
   "outputs": [
    {
     "data": {
      "text/plain": [
       "[(0.0, 0.0),\n",
       " (0.00390625, 0.0078125),\n",
       " (0.0078125, 0.015625),\n",
       " (0.01171875, 0.0234375),\n",
       " (0.015625, 0.03125),\n",
       " (0.01953125, 0.0390625),\n",
       " (0.0234375, 0.046875),\n",
       " (0.02734375, 0.0546875),\n",
       " (0.03125, 0.0625),\n",
       " (0.03515625, 0.0703125),\n",
       " (0.0390625, 0.078125),\n",
       " (0.04296875, 0.0859375),\n",
       " (0.046875, 0.09375),\n",
       " (0.05078125, 0.1015625),\n",
       " (0.0546875, 0.109375),\n",
       " (0.05859375, 0.1171875),\n",
       " (0.0625, 0.125),\n",
       " (0.06640625, 0.1328125),\n",
       " (0.0703125, 0.140625),\n",
       " (0.07421875, 0.1484375),\n",
       " (0.078125, 0.15625),\n",
       " (0.08203125, 0.1640625),\n",
       " (0.0859375, 0.171875),\n",
       " (0.08984375, 0.1796875),\n",
       " (0.09375, 0.1875),\n",
       " (0.09765625, 0.1953125),\n",
       " (0.1015625, 0.203125),\n",
       " (0.10546875, 0.2109375),\n",
       " (0.109375, 0.21875),\n",
       " (0.11328125, 0.2265625),\n",
       " (0.1171875, 0.234375),\n",
       " (0.12109375, 0.2421875),\n",
       " (0.125, 0.25),\n",
       " (0.12890625, 0.2578125),\n",
       " (0.1328125, 0.265625),\n",
       " (0.13671875, 0.2734375),\n",
       " (0.140625, 0.28125),\n",
       " (0.14453125, 0.2890625),\n",
       " (0.1484375, 0.296875),\n",
       " (0.15234375, 0.3046875),\n",
       " (0.15625, 0.3125),\n",
       " (0.16015625, 0.3203125),\n",
       " (0.1640625, 0.328125),\n",
       " (0.16796875, 0.3359375),\n",
       " (0.171875, 0.34375),\n",
       " (0.17578125, 0.3515625),\n",
       " (0.1796875, 0.359375),\n",
       " (0.18359375, 0.3671875),\n",
       " (0.1875, 0.375),\n",
       " (0.19140625, 0.3828125),\n",
       " (0.1953125, 0.390625),\n",
       " (0.19921875, 0.3984375),\n",
       " (0.203125, 0.40625),\n",
       " (0.20703125, 0.4140625),\n",
       " (0.2109375, 0.421875),\n",
       " (0.21484375, 0.4296875),\n",
       " (0.21875, 0.4375),\n",
       " (0.22265625, 0.4453125),\n",
       " (0.2265625, 0.453125),\n",
       " (0.23046875, 0.4609375),\n",
       " (0.234375, 0.46875),\n",
       " (0.23828125, 0.4765625),\n",
       " (0.2421875, 0.484375),\n",
       " (0.24609375, 0.4921875),\n",
       " (0.25, 0.5),\n",
       " (0.25390625, 0.5078125),\n",
       " (0.2578125, 0.515625),\n",
       " (0.26171875, 0.5234375),\n",
       " (0.265625, 0.53125),\n",
       " (0.26953125, 0.5390625),\n",
       " (0.2734375, 0.546875),\n",
       " (0.27734375, 0.5546875),\n",
       " (0.28125, 0.5625),\n",
       " (0.28515625, 0.5703125),\n",
       " (0.2890625, 0.578125),\n",
       " (0.29296875, 0.5859375),\n",
       " (0.296875, 0.59375),\n",
       " (0.30078125, 0.6015625),\n",
       " (0.3046875, 0.609375),\n",
       " (0.30859375, 0.6171875),\n",
       " (0.3125, 0.625),\n",
       " (0.31640625, 0.6328125),\n",
       " (0.3203125, 0.640625),\n",
       " (0.32421875, 0.6484375),\n",
       " (0.328125, 0.65625),\n",
       " (0.33203125, 0.6640625),\n",
       " (0.3359375, 0.671875),\n",
       " (0.33984375, 0.6796875),\n",
       " (0.34375, 0.6875),\n",
       " (0.34765625, 0.6953125),\n",
       " (0.3515625, 0.703125),\n",
       " (0.35546875, 0.7109375),\n",
       " (0.359375, 0.71875),\n",
       " (0.36328125, 0.7265625),\n",
       " (0.3671875, 0.734375),\n",
       " (0.37109375, 0.7421875),\n",
       " (0.375, 0.75),\n",
       " (0.37890625, 0.7578125),\n",
       " (0.3828125, 0.765625),\n",
       " (0.38671875, 0.7734375),\n",
       " (0.390625, 0.78125),\n",
       " (0.39453125, 0.7890625),\n",
       " (0.3984375, 0.796875),\n",
       " (0.40234375, 0.8046875),\n",
       " (0.40625, 0.8125),\n",
       " (0.41015625, 0.8203125),\n",
       " (0.4140625, 0.828125),\n",
       " (0.41796875, 0.8359375),\n",
       " (0.421875, 0.84375),\n",
       " (0.42578125, 0.8515625),\n",
       " (0.4296875, 0.859375),\n",
       " (0.43359375, 0.8671875),\n",
       " (0.4375, 0.875),\n",
       " (0.44140625, 0.8828125),\n",
       " (0.4453125, 0.890625),\n",
       " (0.44921875, 0.8984375),\n",
       " (0.453125, 0.90625),\n",
       " (0.45703125, 0.9140625),\n",
       " (0.4609375, 0.921875),\n",
       " (0.46484375, 0.9296875),\n",
       " (0.46875, 0.9375),\n",
       " (0.47265625, 0.9453125),\n",
       " (0.4765625, 0.953125),\n",
       " (0.48046875, 0.9609375),\n",
       " (0.484375, 0.96875),\n",
       " (0.48828125, 0.9765625),\n",
       " (0.4921875, 0.984375),\n",
       " (0.49609375, 0.9921875),\n",
       " (0.5, 1.0),\n",
       " (0.50390625, 1.0),\n",
       " (0.5078125, 1.0),\n",
       " (0.51171875, 1.0),\n",
       " (0.515625, 1.0),\n",
       " (0.51953125, 1.0),\n",
       " (0.5234375, 1.0),\n",
       " (0.52734375, 1.0),\n",
       " (0.53125, 1.0),\n",
       " (0.53515625, 1.0),\n",
       " (0.5390625, 1.0),\n",
       " (0.54296875, 1.0),\n",
       " (0.546875, 1.0),\n",
       " (0.55078125, 1.0),\n",
       " (0.5546875, 1.0),\n",
       " (0.55859375, 1.0),\n",
       " (0.5625, 1.0),\n",
       " (0.56640625, 1.0),\n",
       " (0.5703125, 1.0),\n",
       " (0.57421875, 1.0),\n",
       " (0.578125, 1.0),\n",
       " (0.58203125, 1.0),\n",
       " (0.5859375, 1.0),\n",
       " (0.58984375, 1.0),\n",
       " (0.59375, 1.0),\n",
       " (0.59765625, 1.0),\n",
       " (0.6015625, 1.0),\n",
       " (0.60546875, 1.0),\n",
       " (0.609375, 1.0),\n",
       " (0.61328125, 1.0),\n",
       " (0.6171875, 1.0),\n",
       " (0.62109375, 1.0),\n",
       " (0.625, 1.0),\n",
       " (0.62890625, 1.0),\n",
       " (0.6328125, 1.0),\n",
       " (0.63671875, 1.0),\n",
       " (0.640625, 1.0),\n",
       " (0.64453125, 1.0),\n",
       " (0.6484375, 1.0),\n",
       " (0.65234375, 1.0),\n",
       " (0.65625, 1.0),\n",
       " (0.66015625, 1.0),\n",
       " (0.6640625, 1.0),\n",
       " (0.66796875, 1.0),\n",
       " (0.671875, 1.0),\n",
       " (0.67578125, 1.0),\n",
       " (0.6796875, 1.0),\n",
       " (0.68359375, 1.0),\n",
       " (0.6875, 1.0),\n",
       " (0.69140625, 1.0),\n",
       " (0.6953125, 1.0),\n",
       " (0.69921875, 1.0),\n",
       " (0.703125, 1.0),\n",
       " (0.70703125, 1.0),\n",
       " (0.7109375, 1.0),\n",
       " (0.71484375, 1.0),\n",
       " (0.71875, 1.0),\n",
       " (0.72265625, 1.0),\n",
       " (0.7265625, 1.0),\n",
       " (0.73046875, 1.0),\n",
       " (0.734375, 1.0),\n",
       " (0.73828125, 1.0),\n",
       " (0.7421875, 1.0),\n",
       " (0.74609375, 1.0),\n",
       " (0.75, 1.0),\n",
       " (0.75390625, 1.0),\n",
       " (0.7578125, 1.0),\n",
       " (0.76171875, 1.0),\n",
       " (0.765625, 1.0),\n",
       " (0.76953125, 1.0),\n",
       " (0.7734375, 1.0),\n",
       " (0.77734375, 1.0),\n",
       " (0.78125, 1.0),\n",
       " (0.78515625, 1.0),\n",
       " (0.7890625, 1.0),\n",
       " (0.79296875, 1.0),\n",
       " (0.796875, 1.0),\n",
       " (0.80078125, 1.0),\n",
       " (0.8046875, 1.0),\n",
       " (0.80859375, 1.0),\n",
       " (0.8125, 1.0),\n",
       " (0.81640625, 1.0),\n",
       " (0.8203125, 1.0),\n",
       " (0.82421875, 1.0),\n",
       " (0.828125, 1.0),\n",
       " (0.83203125, 1.0),\n",
       " (0.8359375, 1.0),\n",
       " (0.83984375, 1.0),\n",
       " (0.84375, 1.0),\n",
       " (0.84765625, 1.0),\n",
       " (0.8515625, 1.0),\n",
       " (0.85546875, 1.0),\n",
       " (0.859375, 1.0),\n",
       " (0.86328125, 1.0),\n",
       " (0.8671875, 1.0),\n",
       " (0.87109375, 1.0),\n",
       " (0.875, 1.0),\n",
       " (0.87890625, 1.0),\n",
       " (0.8828125, 1.0),\n",
       " (0.88671875, 1.0),\n",
       " (0.890625, 1.0),\n",
       " (0.89453125, 1.0),\n",
       " (0.8984375, 1.0),\n",
       " (0.90234375, 1.0),\n",
       " (0.90625, 1.0),\n",
       " (0.91015625, 1.0),\n",
       " (0.9140625, 1.0),\n",
       " (0.91796875, 1.0),\n",
       " (0.921875, 1.0),\n",
       " (0.92578125, 1.0),\n",
       " (0.9296875, 1.0),\n",
       " (0.93359375, 1.0),\n",
       " (0.9375, 1.0),\n",
       " (0.94140625, 1.0),\n",
       " (0.9453125, 1.0),\n",
       " (0.94921875, 1.0),\n",
       " (0.953125, 1.0),\n",
       " (0.95703125, 1.0),\n",
       " (0.9609375, 1.0),\n",
       " (0.96484375, 1.0),\n",
       " (0.96875, 1.0),\n",
       " (0.97265625, 1.0),\n",
       " (0.9765625, 1.0),\n",
       " (0.98046875, 1.0),\n",
       " (0.984375, 1.0),\n",
       " (0.98828125, 1.0),\n",
       " (0.9921875, 1.0),\n",
       " (0.99609375, 1.0),\n",
       " (1.0, 1.0)]"
      ]
     },
     "execution_count": 12,
     "metadata": {},
     "output_type": "execute_result"
    }
   ],
   "source": [
    "zip(reg_index, shift_index)"
   ]
  },
  {
   "cell_type": "code",
   "execution_count": 62,
   "metadata": {
    "collapsed": false
   },
   "outputs": [
    {
     "data": {
      "text/plain": [
       "0.6666666666666666"
      ]
     },
     "execution_count": 62,
     "metadata": {},
     "output_type": "execute_result"
    }
   ],
   "source": [
    "shrunken_extent"
   ]
  },
  {
   "cell_type": "code",
   "execution_count": null,
   "metadata": {
    "collapsed": true
   },
   "outputs": [],
   "source": []
  }
 ],
 "metadata": {
  "kernelspec": {
   "display_name": "Python 2",
   "language": "python",
   "name": "python2"
  },
  "language_info": {
   "codemirror_mode": {
    "name": "ipython",
    "version": 2
   },
   "file_extension": ".py",
   "mimetype": "text/x-python",
   "name": "python",
   "nbconvert_exporter": "python",
   "pygments_lexer": "ipython2",
   "version": "2.7.10"
  }
 },
 "nbformat": 4,
 "nbformat_minor": 0
}
