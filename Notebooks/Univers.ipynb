{
 "cells": [
  {
   "cell_type": "markdown",
   "metadata": {},
   "source": [
    "## Getting Univers working  \n",
    "* required for USGS reports (see: http://internal.usgs.gov/publishing/toolboxes/illustrations/standards_guide.pdf)\n",
    "* can be downloaded here: <http://bwtst.usgs.gov/apps/fonts/vid/otf.html>\n",
    "* Windows instructions are included above; on Mac, simply right-click on font files and choose *Open With > Font Book*"
   ]
  },
  {
   "cell_type": "code",
   "execution_count": 1,
   "metadata": {},
   "outputs": [],
   "source": [
    "import sys\n",
    "import os\n",
    "import matplotlib.pyplot as plt\n",
    "import matplotlib as mpl\n",
    "\n",
    "% matplotlib inline"
   ]
  },
  {
   "cell_type": "code",
   "execution_count": 2,
   "metadata": {},
   "outputs": [
    {
     "name": "stdout",
     "output_type": "stream",
     "text": [
      "matplotlib version: 3.0.0\n",
      "python version: 3.6.6 | packaged by conda-forge | (default, Jul 26 2018, 09:55:02) \n",
      "[GCC 4.2.1 Compatible Apple LLVM 6.1.0 (clang-602.0.53)]\n"
     ]
    }
   ],
   "source": [
    "print('matplotlib version: {}\\npython version: {}'.format(mpl.__version__, sys.version))"
   ]
  },
  {
   "cell_type": "markdown",
   "metadata": {},
   "source": [
    "### Delete the font cache\n",
    "when new fonts are installed, the ``matplotlib`` font cache needs to be deleted. It will rebuild itself afterwards on import, including the new fonts that were installed. Eventually the developers plan to resolve this issue by using the OS to find fonts: <https://github.com/matplotlib/matplotlib/issues/3590>\n",
    "\n",
    "get the cache directory location:"
   ]
  },
  {
   "cell_type": "code",
   "execution_count": 3,
   "metadata": {},
   "outputs": [
    {
     "data": {
      "text/plain": [
       "'/Users/aleaf/.matplotlib'"
      ]
     },
     "execution_count": 3,
     "metadata": {},
     "output_type": "execute_result"
    }
   ],
   "source": [
    "mpl.get_cachedir()"
   ]
  },
  {
   "cell_type": "markdown",
   "metadata": {},
   "source": [
    "delete all **.cache * files in this directory, which may include:  \n",
    "\n",
    "**fontList.cache, fontManager.cache, ttffont.cache, fontList.py3k.cache, tex.cache**"
   ]
  },
  {
   "cell_type": "markdown",
   "metadata": {},
   "source": [
    "### check for Univers in the system fonts  \n",
    "if the font cache hasn't been cleared, it'll show up here, but matplotlib won't be able to find it"
   ]
  },
  {
   "cell_type": "code",
   "execution_count": 4,
   "metadata": {},
   "outputs": [
    {
     "data": {
      "text/plain": [
       "['/Users/aleaf/Library/Fonts/Univers-CondensedBold.otf',\n",
       " '/Users/aleaf/Library/Fonts/Univers-CondensedLight.otf',\n",
       " '/Users/aleaf/Library/Fonts/Univers-CondensedLightOblique.otf',\n",
       " '/Users/aleaf/Library/Fonts/Univers-CondensedOblique.otf',\n",
       " '/Users/aleaf/Library/Fonts/Univers-CondensedBoldOblique.otf',\n",
       " '/Users/aleaf/Library/Fonts/Univers-Condensed.otf']"
      ]
     },
     "execution_count": 4,
     "metadata": {},
     "output_type": "execute_result"
    }
   ],
   "source": [
    "import matplotlib.font_manager as fm \n",
    "univers_fonts = [f for f in fm.findSystemFonts(fontpaths=None, fontext='ttf') if 'univers' in f.lower()]\n",
    "univers_fonts"
   ]
  },
  {
   "cell_type": "markdown",
   "metadata": {},
   "source": [
    "### Get the univers names"
   ]
  },
  {
   "cell_type": "code",
   "execution_count": 5,
   "metadata": {},
   "outputs": [
    {
     "data": {
      "text/plain": [
       "['Univers 67 Condensed',\n",
       " 'Univers 47 Condensed Light',\n",
       " 'Univers 47 Condensed Light',\n",
       " 'Univers 57 Condensed',\n",
       " 'Univers 67 Condensed',\n",
       " 'Univers 57 Condensed']"
      ]
     },
     "execution_count": 5,
     "metadata": {},
     "output_type": "execute_result"
    }
   ],
   "source": [
    "univers_names = [fm.FontProperties(fname=f).get_name() for f in univers_fonts]\n",
    "univers_names"
   ]
  },
  {
   "cell_type": "markdown",
   "metadata": {},
   "source": [
    "### verify that matplotlib can find them"
   ]
  },
  {
   "cell_type": "code",
   "execution_count": 6,
   "metadata": {},
   "outputs": [
    {
     "data": {
      "text/plain": [
       "'/Users/aleaf/Library/Fonts/Univers-CondensedBold.otf'"
      ]
     },
     "execution_count": 6,
     "metadata": {},
     "output_type": "execute_result"
    }
   ],
   "source": [
    "fm.findfont('Univers 67 Condensed')"
   ]
  },
  {
   "cell_type": "markdown",
   "metadata": {},
   "source": [
    "### make a plot using Univers  \n",
    "\n",
    "note: as of 9/28/2016, with ``matplotlib 1.5.3`` and a relatively new install of Anaconda, the cell below resulted in `RuntimeError: TrueType font is missing table`.\n",
    "\n",
    "This was apparently due to the fonttype for the PDF backend being set to 3 instead of 42.\n",
    "Updating the rcParams dict resolves it (for a more permanent fix, you could edit the rcParams file)"
   ]
  },
  {
   "cell_type": "code",
   "execution_count": 7,
   "metadata": {},
   "outputs": [
    {
     "data": {
      "text/plain": [
       "3"
      ]
     },
     "execution_count": 7,
     "metadata": {},
     "output_type": "execute_result"
    }
   ],
   "source": [
    "plt.rcParams['pdf.fonttype']"
   ]
  },
  {
   "cell_type": "code",
   "execution_count": 8,
   "metadata": {},
   "outputs": [
    {
     "data": {
      "text/plain": [
       "42"
      ]
     },
     "execution_count": 8,
     "metadata": {},
     "output_type": "execute_result"
    }
   ],
   "source": [
    "plt.rcParams['pdf.fonttype'] = 42\n",
    "plt.rcParams['pdf.fonttype']"
   ]
  },
  {
   "cell_type": "code",
   "execution_count": 9,
   "metadata": {},
   "outputs": [
    {
     "name": "stderr",
     "output_type": "stream",
     "text": [
      "'Univers-CondensedBold.otf' can not be subsetted into a Type 3 font. The entire font will be embedded in the output.\n",
      "'Univers-CondensedBoldOblique.otf' can not be subsetted into a Type 3 font. The entire font will be embedded in the output.\n"
     ]
    },
    {
     "data": {
      "image/png": "[encoded data removed]",
      "text/plain": [
       "<Figure size 432x288 with 1 Axes>"
      ]
     },
     "metadata": {
      "needs_background": "light"
     },
     "output_type": "display_data"
    }
   ],
   "source": [
    "fig, ax = plt.subplots()\n",
    "plt.plot(range(10), range(10))\n",
    "\n",
    "plt.rcParams['mathtext.fontset'] = 'custom'\n",
    "plt.rcParams['mathtext.it'] = 'Univers 67 Condensed:italic'\n",
    "\n",
    "ax.set_title('$\\it{someitalicstuff}$ not italic', fontname='Univers 67 Condensed' , loc='left')\n",
    "plt.savefig('junk.pdf')"
   ]
  }
 ],
 "metadata": {
  "anaconda-cloud": {},
  "kernelspec": {
   "display_name": "Python 3",
   "language": "python",
   "name": "python3"
  },
  "language_info": {
   "codemirror_mode": {
    "name": "ipython",
    "version": 3
   },
   "file_extension": ".py",
   "mimetype": "text/x-python",
   "name": "python",
   "nbconvert_exporter": "python",
   "pygments_lexer": "ipython3",
   "version": "3.6.6"
  }
 },
 "nbformat": 4,
 "nbformat_minor": 1
}
